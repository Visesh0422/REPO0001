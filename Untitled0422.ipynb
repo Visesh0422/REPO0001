{
  "nbformat": 4,
  "nbformat_minor": 0,
  "metadata": {
    "colab": {
      "provenance": [],
      "authorship_tag": "ABX9TyPQNGzk4o52IonIvU628Pb9",
      "include_colab_link": true
    },
    "kernelspec": {
      "name": "python3",
      "display_name": "Python 3"
    },
    "language_info": {
      "name": "python"
    }
  },
  "cells": [
    {
      "cell_type": "markdown",
      "metadata": {
        "id": "view-in-github",
        "colab_type": "text"
      },
      "source": [
        "<a href=\"https://colab.research.google.com/github/Visesh0422/REPO0001/blob/main/Untitled0422.ipynb\" target=\"_parent\"><img src=\"https://colab.research.google.com/assets/colab-badge.svg\" alt=\"Open In Colab\"/></a>"
      ]
    },
    {
      "cell_type": "code",
      "execution_count": 3,
      "metadata": {
        "colab": {
          "base_uri": "https://localhost:8080/"
        },
        "id": "ZSAcjvahy4Lz",
        "outputId": "7b0bcb0c-fd42-4321-a95d-e682567f7356"
      },
      "outputs": [
        {
          "output_type": "stream",
          "name": "stdout",
          "text": [
            "Reinitialized existing Git repository in /content/.git/\n",
            "On branch main\n",
            "nothing to commit, working tree clean\n",
            "error: remote origin already exists.\n",
            "fatal: could not read Username for 'https://github.com': No such device or address\n"
          ]
        }
      ],
      "source": [
        "!git init\n",
        "!git config --global user.email \"vkuchibh@gitam.in\"\n",
        "!git config --global user.name \"Visesh0422\"\n",
        "!git add .\n",
        "!git commit -m \"Initial commit\"\n",
        "!git remote add origin https://github.com/Visesh0422/firstrepo\n",
        "!git branch -M main\n",
        "!git push -u origin main"
      ]
    }
  ]
}